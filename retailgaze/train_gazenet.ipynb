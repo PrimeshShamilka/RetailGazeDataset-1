{
 "cells": [
  {
   "cell_type": "markdown",
   "metadata": {},
   "source": [
    "### 1. Dependencies"
   ]
  },
  {
   "cell_type": "code",
   "execution_count": 1,
   "metadata": {},
   "outputs": [],
   "source": [
    "import torch\n",
    "from torch.utils.data import Dataset, DataLoader\n",
    "from torchvision import transforms\n",
    "from torch.autograd import Variable\n",
    "import torch.optim as optim\n",
    "import torch.nn as nn\n",
    "import torch.nn.functional as F\n",
    "from torch.nn import DataParallel\n",
    "\n",
    "import time\n",
    "import os\n",
    "import numpy as np\n",
    "import json\n",
    "import cv2\n",
    "from PIL import Image, ImageOps\n",
    "import random\n",
    "from tqdm import tqdm\n",
    "import operator\n",
    "import itertools\n",
    "from scipy.io import  loadmat\n",
    "import logging\n",
    "from scipy import signal\n",
    "\n",
    "from utils import data_transforms\n",
    "from utils import get_paste_kernel, kernel_map\n",
    "from utils_logging import setup_logger"
   ]
  },
  {
   "cell_type": "markdown",
   "metadata": {},
   "source": [
    "### 2. Choose between Recasens or GazeNet\n",
    "\n",
    "- Idea is you can just swap \n",
    "models.recasens, dataloader.recasens, training.train_recasens, etc...\n",
    "- with the following\n",
    "models.gazenet, dataloader.gazenet, training.train_gazenet"
   ]
  },
  {
   "cell_type": "code",
   "execution_count": 2,
   "metadata": {},
   "outputs": [],
   "source": [
    "from models.gazenet import GazeNet\n",
    "from models.__init__ import save_checkpoint, resume_checkpoint\n",
    "from dataloader.gazenet import GooDataset, GazeDataset\n",
    "from training.train_gazenet import train, test, GazeOptimizer"
   ]
  },
  {
   "cell_type": "code",
   "execution_count": 3,
   "metadata": {},
   "outputs": [],
   "source": [
    "# Logger will save the training and test errors to a .log file \n",
    "logger = setup_logger(name='first_logger', \n",
    "                      log_dir ='./logs/',\n",
    "                      log_file='train_gazenet_gooreal_.log',\n",
    "                      log_format = '%(asctime)s %(levelname)s %(message)s',\n",
    "                      verbose=True)"
   ]
  },
  {
   "cell_type": "markdown",
   "metadata": {},
   "source": [
    "### 3. Dataloaders\n",
    "- Choose between GazeDataset (Gazefollow dataset) or GooDataset (GooSynth/GooReal)\n",
    "- Set paths to image directories and pickle paths. For Gazefollow, images_dir and test_images_dir should be the same and both lead to the path containing the train and test folders."
   ]
  },
  {
   "cell_type": "code",
   "execution_count": 4,
   "metadata": {},
   "outputs": [],
   "source": [
    "# Dataloaders for GazeFollow\n",
    "batch_size=32\n",
    "workers=12\n",
    "testbatchsize=16\n",
    "\n",
    "images_dir = '/home/eee198/Documents/datasets/GazeFollowData/'\n",
    "pickle_path = '/home/eee198/Documents/datasets/GazeFollowData/train_annotations.mat'\n",
    "test_images_dir = '/home/eee198/Documents/datasets/GazeFollowData/'\n",
    "test_pickle_path = '/home/eee198/Documents/datasets/GazeFollowData/test_annotations.mat'\n",
    "\n",
    "train_set = GazeDataset(images_dir, pickle_path, 'train')\n",
    "train_data_loader = torch.utils.data.DataLoader(train_set, batch_size=batch_size, shuffle=True, num_workers=workers)\n",
    "\n",
    "val_set = GazeDataset(test_images_dir, test_pickle_path, 'test')\n",
    "test_data_loader = torch.utils.data.DataLoader(val_set, batch_size=testbatchsize, num_workers=workers, shuffle=False)"
   ]
  },
  {
   "cell_type": "code",
   "execution_count": 4,
   "metadata": {},
   "outputs": [
    {
     "name": "stdout",
     "output_type": "stream",
     "text": [
      "==> Number of Images: 172800\n",
      "==> Number of Images: 19200\n"
     ]
    }
   ],
   "source": [
    "# Dataloaders for GOO-Synth\n",
    "batch_size=32\n",
    "workers=12\n",
    "testbatchsize=32\n",
    "\n",
    "images_dir = '/hdd/HENRI/goosynth/1person/GazeDatasets/'\n",
    "pickle_path = '/hdd/HENRI/goosynth/picklefiles/trainpickle2to19human.pickle'\n",
    "test_images_dir = '/hdd/HENRI/goosynth/test/'\n",
    "test_pickle_path = '/hdd/HENRI/goosynth/picklefiles/testpickle120.pickle'\n",
    "\n",
    "train_set = GooDataset(images_dir, pickle_path, 'train')\n",
    "train_data_loader = torch.utils.data.DataLoader(train_set, batch_size=batch_size, shuffle=True, num_workers=workers)\n",
    "\n",
    "val_set = GooDataset(test_images_dir, test_pickle_path, 'test')\n",
    "test_data_loader = torch.utils.data.DataLoader(val_set, batch_size=testbatchsize, num_workers=workers, shuffle=False)"
   ]
  },
  {
   "cell_type": "code",
   "execution_count": 4,
   "metadata": {},
   "outputs": [
    {
     "name": "stdout",
     "output_type": "stream",
     "text": [
      "==> Number of Images: 2451\n",
      "==> Number of Images: 2156\n"
     ]
    }
   ],
   "source": [
    "# Dataloaders for GOO-Real\n",
    "batch_size=32\n",
    "workers=12\n",
    "testbatchsize=32\n",
    "\n",
    "images_dir = '/home/eee198/Documents/datasets/GOOReal/finalrealdatasetImgsV2/'\n",
    "pickle_path = '/home/eee198/Documents/datasets/GOOReal/oneshotrealhumans.pickle'\n",
    "test_images_dir = '/home/eee198/Documents/datasets/GOOReal/finalrealdatasetImgsV2/'\n",
    "test_pickle_path = '/home/eee198/Documents/datasets/GOOReal/testrealhumans.pickle'\n",
    "\n",
    "train_set = GooDataset(images_dir, pickle_path, 'train')\n",
    "train_data_loader = torch.utils.data.DataLoader(train_set, batch_size=batch_size, shuffle=True, num_workers=workers)\n",
    "\n",
    "val_set = GooDataset(test_images_dir, test_pickle_path, 'test')\n",
    "test_data_loader = torch.utils.data.DataLoader(val_set, batch_size=testbatchsize, num_workers=workers, shuffle=False)"
   ]
  },
  {
   "cell_type": "markdown",
   "metadata": {},
   "source": [
    "### 4. Load Model and Set Training Hyperparameters\n",
    "- For Gazefollow, the model requires the alexnet_places365 pretrained model, provided here: https://urlzs.com/ytKK3\n",
    "- When resuming training, set to True and set the resume_path for the saved model.\n",
    "- Here, logging module is initialized (logger) to save training and testing errors."
   ]
  },
  {
   "cell_type": "code",
   "execution_count": 5,
   "metadata": {
    "scrolled": false
   },
   "outputs": [
    {
     "name": "stdout",
     "output_type": "stream",
     "text": [
      "=> loading checkpoint './saved_models/goosynth_pretrain/lian.pth.tar'\n"
     ]
    },
    {
     "name": "stderr",
     "output_type": "stream",
     "text": [
      "\r",
      "  0%|          | 0/68 [00:00<?, ?it/s]"
     ]
    },
    {
     "name": "stdout",
     "output_type": "stream",
     "text": [
      "=> loaded checkpoint './saved_models/goosynth_pretrain/lian.pth.tar' (epoch 24)\n"
     ]
    },
    {
     "name": "stderr",
     "output_type": "stream",
     "text": [
      "loss: 0.13326, 0.56249, 0.69574\n",
      "  1%|▏         | 1/68 [00:09<10:35,  9.48s/it]loss: 0.13666, 0.36980, 0.50646\n",
      "  3%|▎         | 2/68 [00:09<07:22,  6.71s/it]loss: 0.13475, 0.39274, 0.52748\n",
      "  4%|▍         | 3/68 [00:10<05:11,  4.79s/it]loss: 0.14008, 0.38407, 0.52415\n",
      "  6%|▌         | 4/68 [00:10<03:40,  3.44s/it]loss: 0.14128, 0.47111, 0.61239\n",
      "  7%|▋         | 5/68 [00:10<02:41,  2.56s/it]loss: 0.15968, 0.59962, 0.75929\n",
      "  9%|▉         | 6/68 [00:11<01:54,  1.85s/it]loss: 0.14161, 0.45249, 0.59410\n",
      " 10%|█         | 7/68 [00:11<01:23,  1.37s/it]loss: 0.14998, 0.46215, 0.61213\n",
      " 12%|█▏        | 8/68 [00:11<01:02,  1.04s/it]loss: 0.14828, 0.29334, 0.44162\n",
      " 13%|█▎        | 9/68 [00:11<00:48,  1.23it/s]loss: 0.15552, 0.55673, 0.71225\n",
      " 15%|█▍        | 10/68 [00:12<00:39,  1.48it/s]loss: 0.12569, 0.26923, 0.39492\n",
      " 16%|█▌        | 11/68 [00:12<00:31,  1.82it/s]loss: 0.15978, 0.49965, 0.65943\n",
      " 18%|█▊        | 12/68 [00:12<00:25,  2.21it/s]loss: 0.14892, 0.53157, 0.68049\n",
      " 19%|█▉        | 13/68 [00:18<01:48,  1.97s/it]loss: 0.12978, 0.44875, 0.57853\n",
      " 21%|██        | 14/68 [00:18<01:26,  1.60s/it]loss: 0.14588, 0.45096, 0.59684\n",
      " 22%|██▏       | 15/68 [00:19<01:03,  1.20s/it]loss: 0.14586, 0.51830, 0.66415\n",
      " 24%|██▎       | 16/68 [00:19<00:47,  1.08it/s]loss: 0.15307, 0.56247, 0.71554\n",
      " 25%|██▌       | 17/68 [00:20<00:44,  1.15it/s]loss: 0.11491, 0.30511, 0.42002\n",
      " 26%|██▋       | 18/68 [00:20<00:35,  1.40it/s]loss: 0.14236, 0.57757, 0.71993\n",
      " 28%|██▊       | 19/68 [00:20<00:28,  1.73it/s]loss: 0.12985, 0.48560, 0.61545\n",
      " 29%|██▉       | 20/68 [00:21<00:24,  1.94it/s]loss: 0.14863, 0.32245, 0.47108\n",
      " 31%|███       | 21/68 [00:21<00:20,  2.25it/s]loss: 0.12309, 0.43410, 0.55719\n",
      " 32%|███▏      | 22/68 [00:21<00:18,  2.52it/s]loss: 0.13588, 0.59344, 0.72933\n",
      " 34%|███▍      | 23/68 [00:21<00:15,  2.86it/s]loss: 0.13852, 0.44751, 0.58603\n",
      " 35%|███▌      | 24/68 [00:22<00:14,  3.14it/s]loss: 0.15385, 0.52180, 0.67564\n",
      " 37%|███▋      | 25/68 [00:27<01:20,  1.88s/it]loss: 0.14834, 0.60240, 0.75074\n",
      " 38%|███▊      | 26/68 [00:28<01:05,  1.56s/it]loss: 0.12865, 0.40810, 0.53675\n",
      " 40%|███▉      | 27/68 [00:28<00:48,  1.19s/it]loss: 0.14825, 0.52619, 0.67444\n",
      " 41%|████      | 28/68 [00:29<00:36,  1.09it/s]loss: 0.15005, 0.46762, 0.61767\n",
      " 43%|████▎     | 29/68 [00:29<00:28,  1.38it/s]loss: 0.15858, 0.48181, 0.64039\n",
      " 44%|████▍     | 30/68 [00:29<00:21,  1.74it/s]loss: 0.14829, 0.58322, 0.73151\n",
      " 46%|████▌     | 31/68 [00:29<00:17,  2.07it/s]loss: 0.16072, 0.53935, 0.70007\n",
      " 47%|████▋     | 32/68 [00:30<00:15,  2.34it/s]loss: 0.13715, 0.47223, 0.60938\n",
      " 49%|████▊     | 33/68 [00:30<00:13,  2.61it/s]loss: 0.16413, 0.55710, 0.72123\n",
      " 50%|█████     | 34/68 [00:30<00:11,  2.94it/s]loss: 0.14451, 0.56687, 0.71138\n",
      " 51%|█████▏    | 35/68 [00:31<00:10,  3.05it/s]loss: 0.16174, 0.51115, 0.67289\n",
      " 53%|█████▎    | 36/68 [00:31<00:10,  3.09it/s]loss: 0.12680, 0.33100, 0.45780\n",
      " 54%|█████▍    | 37/68 [00:36<00:54,  1.76s/it]loss: 0.14896, 0.46622, 0.61518\n",
      " 56%|█████▌    | 38/68 [00:37<00:43,  1.46s/it]loss: 0.14286, 0.60634, 0.74920\n",
      " 57%|█████▋    | 39/68 [00:37<00:32,  1.11s/it]loss: 0.11682, 0.35016, 0.46698\n",
      " 59%|█████▉    | 40/68 [00:37<00:23,  1.18it/s]loss: 0.12663, 0.43345, 0.56008\n",
      " 60%|██████    | 41/68 [00:38<00:18,  1.45it/s]loss: 0.15894, 0.74040, 0.89934\n",
      " 62%|██████▏   | 42/68 [00:38<00:14,  1.76it/s]loss: 0.15526, 0.53436, 0.68962\n",
      " 63%|██████▎   | 43/68 [00:38<00:11,  2.16it/s]loss: 0.14387, 0.53325, 0.67712\n",
      " 65%|██████▍   | 44/68 [00:38<00:09,  2.52it/s]loss: 0.14789, 0.43003, 0.57792\n",
      " 66%|██████▌   | 45/68 [00:39<00:08,  2.86it/s]loss: 0.14728, 0.46995, 0.61723\n",
      " 68%|██████▊   | 46/68 [00:39<00:07,  3.05it/s]loss: 0.15146, 0.44952, 0.60097\n",
      " 69%|██████▉   | 47/68 [00:39<00:07,  2.98it/s]loss: 0.14636, 0.51460, 0.66096\n",
      " 71%|███████   | 48/68 [00:40<00:06,  3.07it/s]loss: 0.14620, 0.52418, 0.67039\n",
      " 72%|███████▏  | 49/68 [00:44<00:31,  1.68s/it]loss: 0.12881, 0.52314, 0.65195\n",
      " 74%|███████▎  | 50/68 [00:47<00:34,  1.92s/it]loss: 0.13568, 0.38074, 0.51642\n",
      " 75%|███████▌  | 51/68 [00:47<00:24,  1.42s/it]loss: 0.14632, 0.38774, 0.53406\n",
      " 76%|███████▋  | 52/68 [00:47<00:16,  1.06s/it]loss: 0.14582, 0.55260, 0.69842\n",
      " 78%|███████▊  | 53/68 [00:47<00:12,  1.24it/s]loss: 0.14435, 0.46809, 0.61244\n",
      " 79%|███████▉  | 54/68 [00:48<00:08,  1.62it/s]loss: 0.14653, 0.43501, 0.58154\n",
      " 81%|████████  | 55/68 [00:48<00:06,  2.01it/s]loss: 0.15454, 0.46420, 0.61875\n",
      " 82%|████████▏ | 56/68 [00:48<00:05,  2.39it/s]loss: 0.12987, 0.53873, 0.66860\n",
      " 84%|████████▍ | 57/68 [00:48<00:04,  2.72it/s]loss: 0.14403, 0.33676, 0.48078\n",
      " 85%|████████▌ | 58/68 [00:49<00:03,  3.14it/s]loss: 0.13840, 0.48267, 0.62107\n",
      " 87%|████████▋ | 59/68 [00:49<00:02,  3.50it/s]loss: 0.14656, 0.40104, 0.54760\n",
      " 88%|████████▊ | 60/68 [00:49<00:02,  3.87it/s]loss: 0.15141, 0.44255, 0.59397\n",
      " 90%|████████▉ | 61/68 [00:51<00:05,  1.18it/s]loss: 0.13730, 0.47914, 0.61644\n",
      " 91%|█████████ | 62/68 [00:52<00:05,  1.14it/s]loss: 0.15042, 0.60584, 0.75626\n",
      " 93%|█████████▎| 63/68 [00:52<00:03,  1.51it/s]loss: 0.13552, 0.51039, 0.64591\n",
      " 94%|█████████▍| 64/68 [00:52<00:02,  1.97it/s]loss: 0.15002, 0.42468, 0.57470\n",
      " 96%|█████████▌| 65/68 [00:53<00:01,  2.51it/s]loss: 0.15655, 0.51817, 0.67472\n",
      " 97%|█████████▋| 66/68 [00:53<00:00,  3.06it/s]loss: 0.15866, 0.57541, 0.73407\n",
      " 99%|█████████▊| 67/68 [00:53<00:00,  3.67it/s]loss: 0.14965, 0.51538, 0.66503\n",
      "100%|██████████| 68/68 [00:53<00:00,  1.27it/s]\n",
      "average error: [0.7702479087857104, 0.2752074334177219, 49.5848842313793]\n"
     ]
    }
   ],
   "source": [
    "# Loads model\n",
    "net = GazeNet()\n",
    "net.cuda()\n",
    "\n",
    "# Hyperparameters\n",
    "start_epoch = 25\n",
    "max_epoch = 30\n",
    "learning_rate = 1e-4\n",
    "\n",
    "# Initializes Optimizer\n",
    "gaze_opt = GazeOptimizer(net, learning_rate)\n",
    "optimizer = gaze_opt.getOptimizer(start_epoch)\n",
    "\n",
    "# Is training resumed? If so, set the resume_path and set flag to True\n",
    "# This can also be used to evaluate a model \n",
    "resume_training = True\n",
    "resume_path = './saved_models/goosynth_pretrain/lian.pth.tar'\n",
    "if resume_training :\n",
    "    net, optimizer, _ = resume_checkpoint(net, optimizer, resume_path)\n",
    "    scores = test(net, test_data_loader,logger, save_output=True)\n",
    "    #print('L2 Distance: ', scores[1])"
   ]
  },
  {
   "cell_type": "code",
   "execution_count": 6,
   "metadata": {},
   "outputs": [
    {
     "name": "stderr",
     "output_type": "stream",
     "text": [
      "  0%|          | 0/68 [00:00<?, ?it/s]loss: 0.73637, 0.54460, 1.28097\n",
      "  1%|▏         | 1/68 [00:10<11:45, 10.53s/it]loss: 0.73724, 0.70453, 1.44177\n",
      "  3%|▎         | 2/68 [00:10<08:14,  7.50s/it]loss: 0.73599, 0.60091, 1.33690\n",
      "  4%|▍         | 3/68 [00:11<05:46,  5.33s/it]loss: 0.73410, 0.66665, 1.40076\n",
      "  6%|▌         | 4/68 [00:11<04:04,  3.83s/it]loss: 0.73932, 0.67326, 1.41258\n",
      "  7%|▋         | 5/68 [00:11<02:54,  2.77s/it]loss: 0.73536, 0.67505, 1.41041\n",
      "  9%|▉         | 6/68 [00:12<02:05,  2.02s/it]loss: 0.73947, 0.69226, 1.43173\n",
      " 10%|█         | 7/68 [00:12<01:31,  1.51s/it]loss: 0.73198, 0.49461, 1.22660\n",
      " 12%|█▏        | 8/68 [00:12<01:07,  1.13s/it]loss: 0.73474, 0.46742, 1.20217\n",
      " 13%|█▎        | 9/68 [00:12<00:50,  1.18it/s]loss: 0.73281, 0.70513, 1.43794\n",
      " 15%|█▍        | 10/68 [00:13<00:40,  1.44it/s]loss: 0.73591, 0.79120, 1.52711\n",
      " 16%|█▌        | 11/68 [00:13<00:31,  1.80it/s]loss: 0.73420, 0.68806, 1.42226\n",
      " 18%|█▊        | 12/68 [00:13<00:24,  2.27it/s]loss: 0.73605, 0.70345, 1.43950\n",
      " 19%|█▉        | 13/68 [00:18<01:45,  1.91s/it]loss: 0.73726, 0.57273, 1.30999\n",
      " 21%|██        | 14/68 [00:19<01:23,  1.55s/it]loss: 0.73683, 0.44843, 1.18526\n",
      " 22%|██▏       | 15/68 [00:19<01:00,  1.15s/it]loss: 0.73223, 0.67811, 1.41034\n",
      " 24%|██▎       | 16/68 [00:20<00:45,  1.14it/s]loss: 0.73561, 0.51334, 1.24895\n",
      " 25%|██▌       | 17/68 [00:20<00:35,  1.43it/s]loss: 0.73293, 0.80391, 1.53683\n",
      " 26%|██▋       | 18/68 [00:20<00:28,  1.78it/s]loss: 0.73971, 0.69674, 1.43645\n",
      " 28%|██▊       | 19/68 [00:20<00:22,  2.18it/s]loss: 0.73660, 0.58239, 1.31898\n",
      " 29%|██▉       | 20/68 [00:21<00:18,  2.54it/s]loss: 0.73705, 0.67685, 1.41391\n",
      " 31%|███       | 21/68 [00:21<00:16,  2.84it/s]loss: 0.73895, 0.56481, 1.30376\n",
      " 32%|███▏      | 22/68 [00:21<00:14,  3.13it/s]loss: 0.73315, 0.89949, 1.63264\n",
      " 34%|███▍      | 23/68 [00:21<00:12,  3.53it/s]loss: 0.73658, 0.79830, 1.53488\n",
      " 35%|███▌      | 24/68 [00:22<00:12,  3.64it/s]loss: 0.73677, 0.62944, 1.36621\n",
      " 37%|███▋      | 25/68 [00:28<01:28,  2.06s/it]loss: 0.73770, 0.59114, 1.32884\n",
      " 38%|███▊      | 26/68 [00:28<01:03,  1.50s/it]loss: 0.73831, 0.71487, 1.45317\n",
      " 40%|███▉      | 27/68 [00:28<00:45,  1.12s/it]loss: 0.73481, 0.36952, 1.10432\n",
      " 41%|████      | 28/68 [00:29<00:37,  1.07it/s]loss: 0.73819, 0.62439, 1.36258\n",
      " 43%|████▎     | 29/68 [00:29<00:28,  1.38it/s]loss: 0.73620, 0.53817, 1.27437\n",
      " 44%|████▍     | 30/68 [00:29<00:21,  1.73it/s]loss: 0.73635, 0.76606, 1.50240\n",
      " 46%|████▌     | 31/68 [00:29<00:18,  2.05it/s]loss: 0.73732, 0.50575, 1.24307\n",
      " 47%|████▋     | 32/68 [00:30<00:15,  2.38it/s]loss: 0.73795, 0.68784, 1.42580\n",
      " 49%|████▊     | 33/68 [00:30<00:13,  2.64it/s]loss: 0.73335, 0.73465, 1.46800\n",
      " 50%|█████     | 34/68 [00:30<00:11,  3.02it/s]loss: 0.73439, 0.63338, 1.36778\n",
      " 51%|█████▏    | 35/68 [00:30<00:10,  3.26it/s]loss: 0.73639, 0.56071, 1.29710\n",
      " 53%|█████▎    | 36/68 [00:31<00:09,  3.33it/s]loss: 0.73641, 0.51604, 1.25245\n",
      " 54%|█████▍    | 37/68 [00:37<01:08,  2.20s/it]loss: 0.73667, 0.53634, 1.27300\n",
      " 56%|█████▌    | 38/68 [00:38<00:48,  1.61s/it]loss: 0.73663, 0.60189, 1.33852\n",
      " 57%|█████▋    | 39/68 [00:38<00:35,  1.22s/it]loss: 0.73427, 0.77857, 1.51285\n",
      " 59%|█████▉    | 40/68 [00:38<00:26,  1.07it/s]loss: 0.73640, 0.43358, 1.16998\n",
      " 60%|██████    | 41/68 [00:38<00:19,  1.37it/s]loss: 0.73511, 0.49502, 1.23013\n",
      " 62%|██████▏   | 42/68 [00:39<00:15,  1.71it/s]loss: 0.73415, 0.57080, 1.30495\n",
      " 63%|██████▎   | 43/68 [00:39<00:12,  1.98it/s]loss: 0.73744, 0.71921, 1.45665\n",
      " 65%|██████▍   | 44/68 [00:39<00:10,  2.22it/s]loss: 0.73476, 0.83258, 1.56734\n",
      " 66%|██████▌   | 45/68 [00:40<00:09,  2.49it/s]loss: 0.73170, 0.63771, 1.36941\n",
      " 68%|██████▊   | 46/68 [00:40<00:08,  2.64it/s]loss: 0.73174, 0.49595, 1.22769\n",
      " 69%|██████▉   | 47/68 [00:40<00:07,  2.91it/s]loss: 0.73680, 0.83412, 1.57092\n",
      " 71%|███████   | 48/68 [00:41<00:06,  2.86it/s]loss: 0.73547, 0.61401, 1.34947\n",
      " 72%|███████▏  | 49/68 [00:46<00:37,  1.99s/it]loss: 0.73530, 0.67320, 1.40850\n",
      " 74%|███████▎  | 50/68 [00:47<00:26,  1.45s/it]loss: 0.73462, 0.52512, 1.25974\n",
      " 75%|███████▌  | 51/68 [00:47<00:18,  1.07s/it]loss: 0.73371, 0.43999, 1.17370\n",
      " 76%|███████▋  | 52/68 [00:48<00:17,  1.10s/it]loss: 0.73418, 0.66686, 1.40104\n",
      " 78%|███████▊  | 53/68 [00:48<00:12,  1.20it/s]loss: 0.73393, 0.41795, 1.15188\n",
      " 79%|███████▉  | 54/68 [00:48<00:09,  1.53it/s]loss: 0.73156, 0.61295, 1.34451\n",
      " 81%|████████  | 55/68 [00:49<00:06,  1.92it/s]loss: 0.73437, 0.56716, 1.30153\n",
      " 82%|████████▏ | 56/68 [00:49<00:05,  2.33it/s]loss: 0.73547, 0.71389, 1.44936\n",
      " 84%|████████▍ | 57/68 [00:49<00:03,  2.77it/s]loss: 0.73488, 0.64834, 1.38322\n",
      " 85%|████████▌ | 58/68 [00:49<00:03,  3.16it/s]loss: 0.73479, 0.71129, 1.44608\n",
      " 87%|████████▋ | 59/68 [00:49<00:02,  3.53it/s]loss: 0.73303, 0.57196, 1.30499\n",
      " 88%|████████▊ | 60/68 [00:50<00:02,  3.86it/s]loss: 0.73529, 0.49236, 1.22765\n",
      " 90%|████████▉ | 61/68 [00:51<00:04,  1.64it/s]loss: 0.73351, 0.67533, 1.40884\n",
      " 91%|█████████ | 62/68 [00:51<00:02,  2.07it/s]loss: 0.73507, 0.52521, 1.26027\n",
      " 93%|█████████▎| 63/68 [00:51<00:01,  2.60it/s]loss: 0.73517, 0.60010, 1.33527\n",
      " 94%|█████████▍| 64/68 [00:52<00:01,  3.19it/s]loss: 0.73504, 0.38283, 1.11787\n",
      " 96%|█████████▌| 65/68 [00:52<00:00,  3.75it/s]loss: 0.73257, 0.54562, 1.27819\n",
      " 97%|█████████▋| 66/68 [00:52<00:00,  4.30it/s]loss: 0.73314, 0.76771, 1.50084\n",
      " 99%|█████████▊| 67/68 [00:52<00:00,  4.83it/s]loss: 0.74083, 0.51261, 1.25344\n",
      "100%|██████████| 68/68 [00:52<00:00,  1.29it/s]\n",
      "average error: [0.579888081634661, 0.3513668198610138, 75.51560973114206]\n"
     ]
    }
   ],
   "source": [
    "scores = test(net, test_data_loader,logger, save_output=True)"
   ]
  },
  {
   "cell_type": "markdown",
   "metadata": {},
   "source": [
    "### 5. Training the Model\n",
    "- Determine in which epochs do you want to save the model, as you might not want to save every epoch\n",
    "- Training and test errors can be accessed in the logs directory set up earlier"
   ]
  },
  {
   "cell_type": "code",
   "execution_count": 8,
   "metadata": {
    "scrolled": true
   },
   "outputs": [
    {
     "name": "stderr",
     "output_type": "stream",
     "text": [
      "100%|██████████| 77/77 [01:03<00:00,  1.21it/s]\n",
      "100%|██████████| 77/77 [01:03<00:00,  1.22it/s]\n",
      "100%|██████████| 77/77 [01:04<00:00,  1.19it/s]\n",
      "100%|██████████| 77/77 [01:03<00:00,  1.21it/s]\n"
     ]
    }
   ],
   "source": [
    "best_l2 = np.inf\n",
    "\n",
    "for epoch in range(26, 30):\n",
    "    \n",
    "    # Update optimizer\n",
    "    optimizer = gaze_opt.getOptimizer(epoch)\n",
    "\n",
    "    # Train model\n",
    "    train(net, train_data_loader, optimizer, epoch, logger)\n",
    "    \n",
    "    # Evaluate model\n",
    "    #scores = test(net, test_data_loader, logger)\n",
    "    \n",
    "    # Save model+optimizer with best L2 Score\n",
    "    #if scores[1] < best_l2:\n",
    "    #    best_l2 = scores[1]\n",
    "    #    save_path = './saved_models/gazenet_gooreal_notrain/'\n",
    "    #    save_checkpoint(net, optimizer, 420, save_path)"
   ]
  },
  {
   "cell_type": "code",
   "execution_count": 9,
   "metadata": {},
   "outputs": [
    {
     "name": "stderr",
     "output_type": "stream",
     "text": [
      "  0%|          | 0/68 [00:00<?, ?it/s]loss: 0.07214, 0.26543, 0.33757\n",
      "  1%|▏         | 1/68 [00:10<12:03, 10.80s/it]loss: 0.07447, 0.24349, 0.31796\n",
      "  3%|▎         | 2/68 [00:11<08:25,  7.66s/it]loss: 0.06412, 0.10938, 0.17350\n",
      "  4%|▍         | 3/68 [00:11<05:54,  5.45s/it]loss: 0.06933, 0.16028, 0.22961\n",
      "  6%|▌         | 4/68 [00:11<04:09,  3.89s/it]loss: 0.07046, 0.28990, 0.36037\n",
      "  7%|▋         | 5/68 [00:11<02:55,  2.79s/it]loss: 0.07077, 0.29707, 0.36783\n",
      "  9%|▉         | 6/68 [00:12<02:05,  2.02s/it]loss: 0.07177, 0.17802, 0.24980\n",
      " 10%|█         | 7/68 [00:12<01:30,  1.49s/it]loss: 0.06956, 0.25314, 0.32271\n",
      " 12%|█▏        | 8/68 [00:12<01:07,  1.12s/it]loss: 0.06615, 0.09999, 0.16614\n",
      " 13%|█▎        | 9/68 [00:12<00:50,  1.16it/s]loss: 0.07876, 0.36843, 0.44719\n",
      " 15%|█▍        | 10/68 [00:13<00:39,  1.48it/s]loss: 0.07102, 0.23269, 0.30372\n",
      " 16%|█▌        | 11/68 [00:13<00:30,  1.87it/s]loss: 0.08862, 0.41587, 0.50448\n",
      " 18%|█▊        | 12/68 [00:13<00:25,  2.20it/s]loss: 0.07576, 0.29878, 0.37455\n",
      " 19%|█▉        | 13/68 [00:20<02:09,  2.35s/it]loss: 0.07390, 0.25808, 0.33197\n",
      " 21%|██        | 14/68 [00:20<01:33,  1.74s/it]loss: 0.07058, 0.22196, 0.29254\n",
      " 22%|██▏       | 15/68 [00:20<01:09,  1.30s/it]loss: 0.06532, 0.27367, 0.33899\n",
      " 24%|██▎       | 16/68 [00:21<00:50,  1.02it/s]loss: 0.07469, 0.24960, 0.32429\n",
      " 25%|██▌       | 17/68 [00:21<00:38,  1.33it/s]loss: 0.07073, 0.23112, 0.30185\n",
      " 26%|██▋       | 18/68 [00:21<00:29,  1.70it/s]loss: 0.07046, 0.26845, 0.33891\n",
      " 28%|██▊       | 19/68 [00:21<00:22,  2.16it/s]loss: 0.07443, 0.26674, 0.34118\n",
      " 29%|██▉       | 20/68 [00:21<00:18,  2.62it/s]loss: 0.06855, 0.17725, 0.24580\n",
      " 31%|███       | 21/68 [00:22<00:14,  3.15it/s]loss: 0.07372, 0.26476, 0.33848\n",
      " 32%|███▏      | 22/68 [00:22<00:12,  3.67it/s]loss: 0.07017, 0.39078, 0.46095\n",
      " 34%|███▍      | 23/68 [00:22<00:11,  4.00it/s]loss: 0.07237, 0.21792, 0.29029\n",
      " 35%|███▌      | 24/68 [00:22<00:11,  3.93it/s]loss: 0.06940, 0.25087, 0.32027\n",
      " 37%|███▋      | 25/68 [00:29<01:32,  2.16s/it]loss: 0.08545, 0.40367, 0.48912\n",
      " 38%|███▊      | 26/68 [00:29<01:06,  1.59s/it]loss: 0.06371, 0.22937, 0.29308\n",
      " 40%|███▉      | 27/68 [00:30<00:54,  1.32s/it]loss: 0.07059, 0.29877, 0.36935\n",
      " 41%|████      | 28/68 [00:30<00:39,  1.01it/s]loss: 0.07809, 0.30688, 0.38497\n",
      " 43%|████▎     | 29/68 [00:30<00:30,  1.28it/s]loss: 0.07964, 0.25489, 0.33452\n",
      " 44%|████▍     | 30/68 [00:31<00:23,  1.64it/s]loss: 0.08328, 0.34461, 0.42790\n",
      " 46%|████▌     | 31/68 [00:31<00:18,  2.05it/s]loss: 0.07302, 0.33813, 0.41114\n",
      " 47%|████▋     | 32/68 [00:31<00:14,  2.41it/s]loss: 0.08099, 0.34929, 0.43028\n",
      " 49%|████▊     | 33/68 [00:31<00:13,  2.59it/s]loss: 0.07611, 0.27185, 0.34796\n",
      " 50%|█████     | 34/68 [00:32<00:11,  2.88it/s]loss: 0.07251, 0.41478, 0.48729\n",
      " 51%|█████▏    | 35/68 [00:32<00:10,  3.18it/s]loss: 0.08002, 0.32743, 0.40745\n",
      " 53%|█████▎    | 36/68 [00:32<00:09,  3.42it/s]loss: 0.06862, 0.17995, 0.24856\n",
      " 54%|█████▍    | 37/68 [00:39<01:06,  2.14s/it]loss: 0.06720, 0.18270, 0.24991\n",
      " 56%|█████▌    | 38/68 [00:39<00:47,  1.60s/it]loss: 0.07170, 0.26614, 0.33784\n",
      " 57%|█████▋    | 39/68 [00:39<00:37,  1.31s/it]loss: 0.06720, 0.23605, 0.30325\n",
      " 59%|█████▉    | 40/68 [00:40<00:27,  1.01it/s]loss: 0.06588, 0.27257, 0.33845\n",
      " 60%|██████    | 41/68 [00:40<00:21,  1.28it/s]loss: 0.07844, 0.29726, 0.37570\n",
      " 62%|██████▏   | 42/68 [00:40<00:16,  1.59it/s]loss: 0.07299, 0.21847, 0.29146\n",
      " 63%|██████▎   | 43/68 [00:41<00:12,  1.94it/s]loss: 0.07931, 0.28382, 0.36312\n",
      " 65%|██████▍   | 44/68 [00:41<00:10,  2.25it/s]loss: 0.07153, 0.17790, 0.24943\n",
      " 66%|██████▌   | 45/68 [00:41<00:08,  2.60it/s]loss: 0.07627, 0.28464, 0.36091\n",
      " 68%|██████▊   | 46/68 [00:41<00:07,  2.78it/s]loss: 0.07288, 0.32617, 0.39906\n",
      " 69%|██████▉   | 47/68 [00:42<00:06,  3.03it/s]loss: 0.08705, 0.42317, 0.51021\n",
      " 71%|███████   | 48/68 [00:42<00:06,  3.26it/s]loss: 0.07358, 0.25065, 0.32422\n",
      " 72%|███████▏  | 49/68 [00:48<00:36,  1.91s/it]loss: 0.06787, 0.26006, 0.32793\n",
      " 74%|███████▎  | 50/68 [00:48<00:29,  1.62s/it]loss: 0.06481, 0.16730, 0.23210\n",
      " 75%|███████▌  | 51/68 [00:49<00:20,  1.20s/it]loss: 0.06816, 0.14537, 0.21353\n",
      " 76%|███████▋  | 52/68 [00:49<00:14,  1.12it/s]loss: 0.07350, 0.26034, 0.33384\n",
      " 78%|███████▊  | 53/68 [00:49<00:10,  1.45it/s]loss: 0.07172, 0.29661, 0.36833\n",
      " 79%|███████▉  | 54/68 [00:49<00:07,  1.83it/s]loss: 0.06567, 0.15541, 0.22108\n",
      " 81%|████████  | 55/68 [00:50<00:05,  2.27it/s]loss: 0.06774, 0.17507, 0.24281\n",
      " 82%|████████▏ | 56/68 [00:50<00:04,  2.71it/s]loss: 0.07296, 0.32795, 0.40091\n",
      " 84%|████████▍ | 57/68 [00:50<00:03,  3.16it/s]loss: 0.07011, 0.19902, 0.26913\n",
      " 85%|████████▌ | 58/68 [00:50<00:02,  3.41it/s]loss: 0.07767, 0.35965, 0.43733\n",
      " 87%|████████▋ | 59/68 [00:50<00:02,  3.68it/s]loss: 0.07573, 0.30134, 0.37707\n",
      " 88%|████████▊ | 60/68 [00:51<00:02,  3.97it/s]loss: 0.07047, 0.19767, 0.26814\n",
      " 90%|████████▉ | 61/68 [00:54<00:08,  1.22s/it]loss: 0.07214, 0.30114, 0.37328\n",
      " 91%|█████████ | 62/68 [00:54<00:05,  1.10it/s]loss: 0.07536, 0.31373, 0.38909\n",
      " 93%|█████████▎| 63/68 [00:54<00:03,  1.47it/s]loss: 0.07266, 0.36999, 0.44266\n",
      " 94%|█████████▍| 64/68 [00:55<00:02,  1.93it/s]loss: 0.06733, 0.15433, 0.22166\n",
      " 96%|█████████▌| 65/68 [00:55<00:01,  2.45it/s]loss: 0.08559, 0.40450, 0.49009\n",
      " 97%|█████████▋| 66/68 [00:55<00:00,  3.04it/s]loss: 0.07807, 0.25445, 0.33252\n",
      " 99%|█████████▊| 67/68 [00:55<00:00,  3.62it/s]loss: 0.08349, 0.41327, 0.49675\n",
      "100%|██████████| 68/68 [00:55<00:00,  1.22it/s]\n",
      "average error: [0.8884825397733727, 0.17205015173593233, 33.337276480865654]\n"
     ]
    },
    {
     "data": {
      "text/plain": [
       "[0.8884825397733727, 0.17205015173593233, 33.337276480865654]"
      ]
     },
     "execution_count": 9,
     "metadata": {},
     "output_type": "execute_result"
    }
   ],
   "source": [
    "test(net, test_data_loader,logger, save_output=True)"
   ]
  },
  {
   "cell_type": "code",
   "execution_count": null,
   "metadata": {},
   "outputs": [],
   "source": []
  }
 ],
 "metadata": {
  "kernelspec": {
   "display_name": "Python 3",
   "language": "python",
   "name": "python3"
  },
  "language_info": {
   "codemirror_mode": {
    "name": "ipython",
    "version": 3
   },
   "file_extension": ".py",
   "mimetype": "text/x-python",
   "name": "python",
   "nbconvert_exporter": "python",
   "pygments_lexer": "ipython3",
   "version": "3.7.7"
  }
 },
 "nbformat": 4,
 "nbformat_minor": 4
}
